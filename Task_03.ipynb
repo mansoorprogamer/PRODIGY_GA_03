{
  "nbformat": 4,
  "nbformat_minor": 0,
  "metadata": {
    "colab": {
      "provenance": []
    },
    "kernelspec": {
      "name": "python3",
      "display_name": "Python 3"
    },
    "accelerator": "GPU"
  },
  "cells": [
    {
      "cell_type": "markdown",
      "source": [
        "Muhammad Mansoor Alam\n",
        "\n",
        "Task 03: \"Text Generation with Markov Chains\"\n",
        "\n",
        "Implement a simple text generation algorithm using Markov chains. This task involves creating a statistical model that predicts the probability of a character or word based on the previous one(s)."
      ],
      "metadata": {
        "id": "kafNLfbonOBT"
      }
    },
    {
      "cell_type": "markdown",
      "source": [
        "**How it Works?**\n",
        "\n",
        "\n",
        "Markov chains are a mathematical concept used to predict the next item in a sequence based on the current item. It basically breaks down the text into a long list of words and then maintains a list in which it stores common words and what words they are followed by in the sentence.\n",
        "Same is also done for a charater based model, the words are swapped for characters\n",
        "\n",
        "In text generation, a Markov chain model analyzes a body of text and learns the probability of each word or character following another.\n",
        "\n",
        "By using these probabilities, the model can generate new, coherent text by choosing the next word or character based on the previous one(s). This method helps create text that mimics the style and structure of the original content."
      ],
      "metadata": {
        "id": "7rx5sxXVYxv0"
      }
    },
    {
      "cell_type": "markdown",
      "source": [
        "**Load the text files**"
      ],
      "metadata": {
        "id": "JHzB6GAdUWqm"
      }
    },
    {
      "cell_type": "code",
      "source": [
        "text_a = open(\"love.txt\").read()\n",
        "text_b = open(\"spy.txt\").read()"
      ],
      "metadata": {
        "id": "TfdA3AiNUaG_"
      },
      "execution_count": 33,
      "outputs": []
    },
    {
      "cell_type": "markdown",
      "source": [
        "**Imports**"
      ],
      "metadata": {
        "id": "CgwiyGEKQDU5"
      }
    },
    {
      "cell_type": "code",
      "source": [
        "import sys\n",
        "!{sys.executable} -m pip install markovify\n",
        "import markovify"
      ],
      "metadata": {
        "colab": {
          "base_uri": "https://localhost:8080/"
        },
        "id": "nkTHqJhHUU61",
        "outputId": "e09f0e8e-cc80-48d4-f330-cdf0210f5044"
      },
      "execution_count": 34,
      "outputs": [
        {
          "output_type": "stream",
          "name": "stdout",
          "text": [
            "Requirement already satisfied: markovify in /usr/local/lib/python3.10/dist-packages (0.9.4)\n",
            "Requirement already satisfied: unidecode in /usr/local/lib/python3.10/dist-packages (from markovify) (1.3.8)\n"
          ]
        }
      ]
    },
    {
      "cell_type": "markdown",
      "source": [
        "**Training the model(s)**"
      ],
      "metadata": {
        "id": "BjSTS_oLU7tN"
      }
    },
    {
      "cell_type": "code",
      "source": [
        "generator_a = markovify.Text(text_a)\n",
        "\n",
        "#sample test\n",
        "print(generator_a.make_sentence())\n",
        "print(generator_a.make_short_sentence(50))\n",
        "print(generator_a.make_short_sentence(40, tries=100))"
      ],
      "metadata": {
        "colab": {
          "base_uri": "https://localhost:8080/"
        },
        "id": "-LhwF1qPVAG2",
        "outputId": "887cbff0-85fe-4c05-cee4-7a576ac2c0ef"
      },
      "execution_count": 35,
      "outputs": [
        {
          "output_type": "stream",
          "name": "stdout",
          "text": [
            "One day, as Emma was sitting in the sky, casting a warm glow over the city.\n",
            "One evening, as they were sitting in the mail.\n",
            "They talked on the bench next to her.\n"
          ]
        }
      ]
    },
    {
      "cell_type": "markdown",
      "source": [
        "**Trying different ways to train a model**"
      ],
      "metadata": {
        "id": "bnxZ8215VGhj"
      }
    },
    {
      "cell_type": "markdown",
      "source": [
        "model based on text_a but now with 2 variations; restricted and unrestriced"
      ],
      "metadata": {
        "id": "FsRdfy_zVLeU"
      }
    },
    {
      "cell_type": "code",
      "source": [
        "gen_a_1 = markovify.Text(text_a, state_size=1)\n",
        "gen_a_4 = markovify.Text(text_a, state_size=4)\n",
        "print(\"order 1\")\n",
        "print(gen_a_1.make_sentence(test_output=False))\n",
        "print()\n",
        "print(\"order 4\")\n",
        "print(gen_a_4.make_sentence(test_output=False))\n"
      ],
      "metadata": {
        "colab": {
          "base_uri": "https://localhost:8080/"
        },
        "id": "H9HUl-icVJrS",
        "outputId": "9f74d3f3-b814-49c3-ea7d-f73c3a118e40"
      },
      "execution_count": 36,
      "outputs": [
        {
          "output_type": "stream",
          "name": "stdout",
          "text": [
            "order 1\n",
            "Today, however, there for him, her face.\n",
            "\n",
            "order 4\n",
            "They talked about everything, from their favorite books and movies to their hopes and dreams for the future.\n"
          ]
        }
      ]
    },
    {
      "cell_type": "markdown",
      "source": [
        "charaterwise model (training the model based on charaters rather than words)"
      ],
      "metadata": {
        "id": "EfFF28q7VNn3"
      }
    },
    {
      "cell_type": "code",
      "source": [
        "class SentencesByChar(markovify.Text):\n",
        "    def word_split(self, sentence):\n",
        "        return list(sentence)\n",
        "    def word_join(self, words):\n",
        "        return \"\".join(words)\n",
        "\n",
        "\n",
        "con_model = SentencesByChar(\"condescendences\", state_size=2)\n",
        "con_model.make_sentence()\n",
        "gen_a_char = SentencesByChar(text_a, state_size=7)\n",
        "\n",
        "print(gen_a_char.make_sentence(test_output=False).replace(\"\\n\", \" \"))"
      ],
      "metadata": {
        "colab": {
          "base_uri": "https://localhost:8080/"
        },
        "id": "AI03XzEPVjFE",
        "outputId": "3d2faa71-eedf-41eb-bb6f-5fdafbbe4200"
      },
      "execution_count": 37,
      "outputs": [
        {
          "output_type": "stream",
          "name": "stdout",
          "text": [
            "Over the pond where she was meant to be.\n"
          ]
        }
      ]
    },
    {
      "cell_type": "markdown",
      "source": [
        "**Combining models A & B:**\n",
        "\n",
        "we made 2 models, one form text_a andone form text_b, now we'll combine them."
      ],
      "metadata": {
        "id": "ZEShH5npVmqb"
      }
    },
    {
      "cell_type": "code",
      "source": [
        "generator_a = markovify.Text(text_a)\n",
        "generator_b = markovify.Text(text_b)\n",
        "combo = markovify.combine([generator_a, generator_b], [0.5, 0.5])\n",
        "\n",
        "print(combo.make_sentence())"
      ],
      "metadata": {
        "colab": {
          "base_uri": "https://localhost:8080/"
        },
        "id": "hDpnOwH1Vn0r",
        "outputId": "9d9c66b7-0386-443a-8b75-038b9c7404e4"
      },
      "execution_count": 38,
      "outputs": [
        {
          "output_type": "stream",
          "name": "stdout",
          "text": [
            "Emma gasped as she wandered through the building, staying in the rooftop garden, filled with the sound of gunfire deafening.\n"
          ]
        }
      ]
    },
    {
      "cell_type": "markdown",
      "source": [
        "**code to generate whole text as per specification**"
      ],
      "metadata": {
        "id": "lqvV0BXJVqAU"
      }
    },
    {
      "cell_type": "code",
      "metadata": {
        "id": "5lszGsW414F8",
        "colab": {
          "base_uri": "https://localhost:8080/"
        },
        "outputId": "e5c754bf-178e-4ac3-f0a8-08c47bce8a61"
      },
      "source": [
        "# change to \"word\" for a word-level model\n",
        "level = \"char\"\n",
        "# controls the length of the n-gram\n",
        "order = 7\n",
        "# controls the number of lines to output\n",
        "output_n = 14\n",
        "# weights between the models; text A first, text B second.\n",
        "# if you want to completely exclude one model, set its corresponding value to 0\n",
        "weights = [0.5, 0.5]\n",
        "# limit sentence output to this number of characters\n",
        "length_limit = 280\n",
        "\n",
        "\n",
        "model_cls = markovify.Text if level == \"word\" else SentencesByChar\n",
        "gen_a = model_cls(text_a, state_size=order)\n",
        "gen_b = model_cls(text_b, state_size=order)\n",
        "gen_combo = markovify.combine([gen_a, gen_b], weights)\n",
        "for i in range(output_n):\n",
        "    out = gen_combo.make_short_sentence(length_limit, test_output=False)\n",
        "    out = out.replace(\"\\n\", \" \")\n",
        "    print(out)\n",
        "    print()"
      ],
      "execution_count": 45,
      "outputs": [
        {
          "output_type": "stream",
          "name": "stdout",
          "text": [
            "He recognized the city lights and he used those skills now to his side.\n",
            "\n",
            "Jake smiled.\n",
            "\n",
            "Jake knew he had always have to do.\n",
            "\n",
            "Emma found them.\n",
            "\n",
            "Emma nodded.\n",
            "\n",
            "They spent the next chapter of the rain muffled by the throngs of people and burst out into the bench next two weeks trying to his positive.\n",
            "\n",
            "They ran.\n",
            "\n",
            "Emma found herself inspired in ways she hadn't been in a long conversation.\n",
            "\n",
            "They had weathered around them.\n",
            "\n",
            "Emma wrapped her through the mail.\n",
            "\n",
            "Emma felt a sense of connection.\n",
            "\n",
            "This notebook, filled with love and longing he felt tears of joy streaming down one man after another, his training kicking in instinctively.\n",
            "\n",
            "Emma was sitting in the morning, Emma and Ben's absence.\n",
            "\n",
            "Sarah rushed the weapons raised, scanning the situation.\n",
            "\n"
          ]
        }
      ]
    }
  ]
}